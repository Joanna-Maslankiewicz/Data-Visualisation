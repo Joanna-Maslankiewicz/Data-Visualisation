{
 "cells": [
  {
   "cell_type": "markdown",
   "metadata": {},
   "source": [
    "The files krk-airlines.csv, krk-flights.csv and krk-passengers.csv contain data about flights from Krakow Airport. In a separate notebook, calculate and display:\n",
    "\n",
    "- list including flight number and destination (two columns)\n"
   ]
  },
  {
   "cell_type": "code",
   "execution_count": 191,
   "metadata": {},
   "outputs": [
    {
     "data": {
      "text/html": [
       "<div>\n",
       "<style scoped>\n",
       "    .dataframe tbody tr th:only-of-type {\n",
       "        vertical-align: middle;\n",
       "    }\n",
       "\n",
       "    .dataframe tbody tr th {\n",
       "        vertical-align: top;\n",
       "    }\n",
       "\n",
       "    .dataframe thead th {\n",
       "        text-align: right;\n",
       "    }\n",
       "</style>\n",
       "<table border=\"1\" class=\"dataframe\">\n",
       "  <thead>\n",
       "    <tr style=\"text-align: right;\">\n",
       "      <th></th>\n",
       "      <th></th>\n",
       "    </tr>\n",
       "    <tr>\n",
       "      <th>flight</th>\n",
       "      <th>to</th>\n",
       "    </tr>\n",
       "  </thead>\n",
       "  <tbody>\n",
       "    <tr>\n",
       "      <th>BE321</th>\n",
       "      <th>Berlin</th>\n",
       "    </tr>\n",
       "    <tr>\n",
       "      <th>LN222</th>\n",
       "      <th>London</th>\n",
       "    </tr>\n",
       "    <tr>\n",
       "      <th>NY777</th>\n",
       "      <th>New York</th>\n",
       "    </tr>\n",
       "    <tr>\n",
       "      <th>PA006</th>\n",
       "      <th>Paris</th>\n",
       "    </tr>\n",
       "  </tbody>\n",
       "</table>\n",
       "</div>"
      ],
      "text/plain": [
       "Empty DataFrame\n",
       "Columns: []\n",
       "Index: [(BE321, Berlin), (LN222, London), (NY777, New York), (PA006, Paris)]"
      ]
     },
     "execution_count": 191,
     "metadata": {},
     "output_type": "execute_result"
    }
   ],
   "source": [
    "import pandas as pd\n",
    "\n",
    "krk_airlines = pd.read_csv('krk-airlines.csv')\n",
    "krk_passengers = pd.read_csv('krk-passengers.csv')\n",
    "krk_flight = pd.read_csv('krk-flights.csv')\n",
    "\n",
    "flights_and_airlines = pd.merge(krk_flight,krk_airlines,on='airlineid')\n",
    "data = pd.merge(flights_and_airlines,krk_passengers,on='flight')\n",
    "\n",
    "data.to_csv('data_planes.csv')\n",
    "\n",
    "data.loc[:,['flight','to']].groupby(['flight','to']).sum()"
   ]
  },
  {
   "cell_type": "markdown",
   "metadata": {},
   "source": [
    "- flight list with the full name of the airline and the name of the aircraft\n"
   ]
  },
  {
   "cell_type": "code",
   "execution_count": 192,
   "metadata": {},
   "outputs": [
    {
     "data": {
      "text/html": [
       "<div>\n",
       "<style scoped>\n",
       "    .dataframe tbody tr th:only-of-type {\n",
       "        vertical-align: middle;\n",
       "    }\n",
       "\n",
       "    .dataframe tbody tr th {\n",
       "        vertical-align: top;\n",
       "    }\n",
       "\n",
       "    .dataframe thead th {\n",
       "        text-align: right;\n",
       "    }\n",
       "</style>\n",
       "<table border=\"1\" class=\"dataframe\">\n",
       "  <thead>\n",
       "    <tr style=\"text-align: right;\">\n",
       "      <th></th>\n",
       "      <th></th>\n",
       "      <th></th>\n",
       "    </tr>\n",
       "    <tr>\n",
       "      <th>flight</th>\n",
       "      <th>airline</th>\n",
       "      <th>airplane</th>\n",
       "    </tr>\n",
       "  </thead>\n",
       "  <tbody>\n",
       "    <tr>\n",
       "      <th>BE321</th>\n",
       "      <th>SunHoliday</th>\n",
       "      <th>Airbus A319</th>\n",
       "    </tr>\n",
       "    <tr>\n",
       "      <th>LN222</th>\n",
       "      <th>PanEurope</th>\n",
       "      <th>Boeing 787</th>\n",
       "    </tr>\n",
       "    <tr>\n",
       "      <th>NY777</th>\n",
       "      <th>BlueSky</th>\n",
       "      <th>Airbus A330</th>\n",
       "    </tr>\n",
       "    <tr>\n",
       "      <th>PA006</th>\n",
       "      <th>SunHoliday</th>\n",
       "      <th>Airbus A319</th>\n",
       "    </tr>\n",
       "  </tbody>\n",
       "</table>\n",
       "</div>"
      ],
      "text/plain": [
       "Empty DataFrame\n",
       "Columns: []\n",
       "Index: [(BE321, SunHoliday, Airbus A319), (LN222, PanEurope, Boeing 787), (NY777, BlueSky, Airbus A330), (PA006, SunHoliday, Airbus A319)]"
      ]
     },
     "execution_count": 192,
     "metadata": {},
     "output_type": "execute_result"
    }
   ],
   "source": [
    "data.loc[:,['airline','airplane','flight']].groupby(['flight','airline','airplane']).sum()"
   ]
  },
  {
   "cell_type": "markdown",
   "metadata": {},
   "source": [
    "- a list of passengers on a flight to London sorted by surname\n"
   ]
  },
  {
   "cell_type": "code",
   "execution_count": 193,
   "metadata": {},
   "outputs": [
    {
     "data": {
      "text/html": [
       "<div>\n",
       "<style scoped>\n",
       "    .dataframe tbody tr th:only-of-type {\n",
       "        vertical-align: middle;\n",
       "    }\n",
       "\n",
       "    .dataframe tbody tr th {\n",
       "        vertical-align: top;\n",
       "    }\n",
       "\n",
       "    .dataframe thead th {\n",
       "        text-align: right;\n",
       "    }\n",
       "</style>\n",
       "<table border=\"1\" class=\"dataframe\">\n",
       "  <thead>\n",
       "    <tr style=\"text-align: right;\">\n",
       "      <th></th>\n",
       "      <th></th>\n",
       "      <th></th>\n",
       "    </tr>\n",
       "    <tr>\n",
       "      <th>name</th>\n",
       "      <th>surname</th>\n",
       "      <th>gender</th>\n",
       "    </tr>\n",
       "  </thead>\n",
       "  <tbody>\n",
       "    <tr>\n",
       "      <th>Claudie</th>\n",
       "      <th>Braid</th>\n",
       "      <th>Female</th>\n",
       "    </tr>\n",
       "    <tr>\n",
       "      <th>Nehemiah</th>\n",
       "      <th>Budcock</th>\n",
       "      <th>Male</th>\n",
       "    </tr>\n",
       "    <tr>\n",
       "      <th>Ingmar</th>\n",
       "      <th>Cockman</th>\n",
       "      <th>Male</th>\n",
       "    </tr>\n",
       "    <tr>\n",
       "      <th>Willyt</th>\n",
       "      <th>Matlock</th>\n",
       "      <th>Female</th>\n",
       "    </tr>\n",
       "    <tr>\n",
       "      <th>Rennie</th>\n",
       "      <th>McComiskey</th>\n",
       "      <th>Female</th>\n",
       "    </tr>\n",
       "    <tr>\n",
       "      <th>Ferguson</th>\n",
       "      <th>Osban</th>\n",
       "      <th>Male</th>\n",
       "    </tr>\n",
       "    <tr>\n",
       "      <th>Nolana</th>\n",
       "      <th>Pattie</th>\n",
       "      <th>Female</th>\n",
       "    </tr>\n",
       "    <tr>\n",
       "      <th>Mareah</th>\n",
       "      <th>Peplay</th>\n",
       "      <th>Female</th>\n",
       "    </tr>\n",
       "    <tr>\n",
       "      <th>Araldo</th>\n",
       "      <th>Permain</th>\n",
       "      <th>Male</th>\n",
       "    </tr>\n",
       "    <tr>\n",
       "      <th>Stormy</th>\n",
       "      <th>Quare</th>\n",
       "      <th>Female</th>\n",
       "    </tr>\n",
       "    <tr>\n",
       "      <th>Edik</th>\n",
       "      <th>Smieton</th>\n",
       "      <th>Male</th>\n",
       "    </tr>\n",
       "    <tr>\n",
       "      <th>Lindi</th>\n",
       "      <th>Snoad</th>\n",
       "      <th>Female</th>\n",
       "    </tr>\n",
       "    <tr>\n",
       "      <th>Emmanuel</th>\n",
       "      <th>Tickel</th>\n",
       "      <th>Male</th>\n",
       "    </tr>\n",
       "    <tr>\n",
       "      <th>Ashton</th>\n",
       "      <th>Tregunna</th>\n",
       "      <th>Male</th>\n",
       "    </tr>\n",
       "    <tr>\n",
       "      <th>Brewster</th>\n",
       "      <th>Vear</th>\n",
       "      <th>Male</th>\n",
       "    </tr>\n",
       "  </tbody>\n",
       "</table>\n",
       "</div>"
      ],
      "text/plain": [
       "Empty DataFrame\n",
       "Columns: []\n",
       "Index: [(Claudie, Braid, Female), (Nehemiah, Budcock, Male), (Ingmar, Cockman, Male), (Willyt, Matlock, Female), (Rennie, McComiskey, Female), (Ferguson, Osban, Male), (Nolana, Pattie, Female), (Mareah, Peplay, Female), (Araldo, Permain, Male), (Stormy, Quare, Female), (Edik, Smieton, Male), (Lindi, Snoad, Female), (Emmanuel, Tickel, Male), (Ashton, Tregunna, Male), (Brewster, Vear, Male)]"
      ]
     },
     "execution_count": 193,
     "metadata": {},
     "output_type": "execute_result"
    }
   ],
   "source": [
    "data.query(\"to == 'London'\").loc[:,['name','surname','gender']].groupby(['name','surname','gender']).sum().sort_values(by=\"surname\")"
   ]
  },
  {
   "cell_type": "markdown",
   "metadata": {},
   "source": [
    "- a list of women flying to Paris ordered by surname\n"
   ]
  },
  {
   "cell_type": "code",
   "execution_count": 194,
   "metadata": {},
   "outputs": [
    {
     "data": {
      "text/html": [
       "<div>\n",
       "<style scoped>\n",
       "    .dataframe tbody tr th:only-of-type {\n",
       "        vertical-align: middle;\n",
       "    }\n",
       "\n",
       "    .dataframe tbody tr th {\n",
       "        vertical-align: top;\n",
       "    }\n",
       "\n",
       "    .dataframe thead th {\n",
       "        text-align: right;\n",
       "    }\n",
       "</style>\n",
       "<table border=\"1\" class=\"dataframe\">\n",
       "  <thead>\n",
       "    <tr style=\"text-align: right;\">\n",
       "      <th></th>\n",
       "      <th></th>\n",
       "    </tr>\n",
       "    <tr>\n",
       "      <th>name</th>\n",
       "      <th>surname</th>\n",
       "    </tr>\n",
       "  </thead>\n",
       "  <tbody>\n",
       "    <tr>\n",
       "      <th>Miguela</th>\n",
       "      <th>Benzie</th>\n",
       "    </tr>\n",
       "    <tr>\n",
       "      <th>Heath</th>\n",
       "      <th>Butterfill</th>\n",
       "    </tr>\n",
       "    <tr>\n",
       "      <th>Erminie</th>\n",
       "      <th>Earland</th>\n",
       "    </tr>\n",
       "    <tr>\n",
       "      <th>Janene</th>\n",
       "      <th>Elger</th>\n",
       "    </tr>\n",
       "    <tr>\n",
       "      <th>Alene</th>\n",
       "      <th>Emig</th>\n",
       "    </tr>\n",
       "    <tr>\n",
       "      <th>Chelsae</th>\n",
       "      <th>Evins</th>\n",
       "    </tr>\n",
       "    <tr>\n",
       "      <th>Fanny</th>\n",
       "      <th>Fennessy</th>\n",
       "    </tr>\n",
       "    <tr>\n",
       "      <th>Paige</th>\n",
       "      <th>Freeborne</th>\n",
       "    </tr>\n",
       "    <tr>\n",
       "      <th>Genevra</th>\n",
       "      <th>Garlicke</th>\n",
       "    </tr>\n",
       "    <tr>\n",
       "      <th>Linda</th>\n",
       "      <th>Kupper</th>\n",
       "    </tr>\n",
       "    <tr>\n",
       "      <th>Annemarie</th>\n",
       "      <th>Letson</th>\n",
       "    </tr>\n",
       "    <tr>\n",
       "      <th>Lia</th>\n",
       "      <th>Mapston</th>\n",
       "    </tr>\n",
       "    <tr>\n",
       "      <th>Korry</th>\n",
       "      <th>McGrann</th>\n",
       "    </tr>\n",
       "    <tr>\n",
       "      <th>Ivette</th>\n",
       "      <th>Milesap</th>\n",
       "    </tr>\n",
       "    <tr>\n",
       "      <th>Leann</th>\n",
       "      <th>Pinkerton</th>\n",
       "    </tr>\n",
       "    <tr>\n",
       "      <th>Cloe</th>\n",
       "      <th>Salzberg</th>\n",
       "    </tr>\n",
       "    <tr>\n",
       "      <th>Prisca</th>\n",
       "      <th>Scutching</th>\n",
       "    </tr>\n",
       "    <tr>\n",
       "      <th>Kip</th>\n",
       "      <th>Sumpton</th>\n",
       "    </tr>\n",
       "    <tr>\n",
       "      <th>Blanch</th>\n",
       "      <th>Tink</th>\n",
       "    </tr>\n",
       "    <tr>\n",
       "      <th>Talia</th>\n",
       "      <th>Yendle</th>\n",
       "    </tr>\n",
       "  </tbody>\n",
       "</table>\n",
       "</div>"
      ],
      "text/plain": [
       "Empty DataFrame\n",
       "Columns: []\n",
       "Index: [(Miguela, Benzie), (Heath, Butterfill), (Erminie, Earland), (Janene, Elger), (Alene, Emig), (Chelsae, Evins), (Fanny, Fennessy), (Paige, Freeborne), (Genevra, Garlicke), (Linda, Kupper), (Annemarie, Letson), (Lia, Mapston), (Korry, McGrann), (Ivette, Milesap), (Leann, Pinkerton), (Cloe, Salzberg), (Prisca, Scutching), (Kip, Sumpton), (Blanch, Tink), (Talia, Yendle)]"
      ]
     },
     "execution_count": 194,
     "metadata": {},
     "output_type": "execute_result"
    }
   ],
   "source": [
    "data.query(\"to == 'Paris' and gender == 'Female'\").loc[:,['name','surname']].groupby(['name','surname']).sum().sort_values(by=\"surname\")"
   ]
  },
  {
   "cell_type": "markdown",
   "metadata": {},
   "source": [
    "- number of passengers on the flight to Berlin\n"
   ]
  },
  {
   "cell_type": "code",
   "execution_count": 195,
   "metadata": {},
   "outputs": [
    {
     "data": {
      "text/plain": [
       "to    17\n",
       "dtype: int64"
      ]
     },
     "execution_count": 195,
     "metadata": {},
     "output_type": "execute_result"
    }
   ],
   "source": [
    "data.query(\"to == 'Berlin'\").loc[:,['to','name','surname']].groupby(['name','surname']).count().sum()"
   ]
  },
  {
   "cell_type": "markdown",
   "metadata": {},
   "source": [
    "- number of men flying from Krakow\n"
   ]
  },
  {
   "cell_type": "code",
   "execution_count": 196,
   "metadata": {},
   "outputs": [
    {
     "data": {
      "text/plain": [
       "to    54\n",
       "dtype: int64"
      ]
     },
     "execution_count": 196,
     "metadata": {},
     "output_type": "execute_result"
    }
   ],
   "source": [
    "data.query(\"`from` == 'Krakow' and gender == 'Male'\").loc[:,['to','name','surname']].groupby(['name','surname']).count().sum()"
   ]
  },
  {
   "cell_type": "markdown",
   "metadata": {},
   "source": [
    "- number of passengers for each flight"
   ]
  },
  {
   "cell_type": "code",
   "execution_count": 197,
   "metadata": {},
   "outputs": [
    {
     "data": {
      "text/plain": [
       "to    100\n",
       "dtype: int64"
      ]
     },
     "execution_count": 197,
     "metadata": {},
     "output_type": "execute_result"
    }
   ],
   "source": [
    "data.loc[:,['to','name','surname']].groupby(['name','surname']).count().sum()"
   ]
  }
 ],
 "metadata": {
  "kernelspec": {
   "display_name": "Python 3",
   "language": "python",
   "name": "python3"
  },
  "language_info": {
   "codemirror_mode": {
    "name": "ipython",
    "version": 3
   },
   "file_extension": ".py",
   "mimetype": "text/x-python",
   "name": "python",
   "nbconvert_exporter": "python",
   "pygments_lexer": "ipython3",
   "version": "3.9.13"
  }
 },
 "nbformat": 4,
 "nbformat_minor": 2
}
